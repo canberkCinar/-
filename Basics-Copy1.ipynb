{
 "cells": [
  {
   "cell_type": "markdown",
   "metadata": {},
   "source": [
    "Portfolio Project\n",
    "Playing on Apps Market Data"
   ]
  },
  {
   "cell_type": "code",
   "execution_count": 2,
   "metadata": {
    "collapsed": true
   },
   "outputs": [],
   "source": [
    "from csv import reader\n",
    "\n",
    "opened_file=open('googleplaystore.csv')\n",
    "read_file=reader(opened_file)\n",
    "android=list(read_file)\n",
    "android_header=android[0]\n",
    "android=android[1:]\n",
    "\n",
    "opened_file=open('AppleStore.csv')\n",
    "read_file=reader(opened_file)\n",
    "ios=list(read_file)\n",
    "ios_header=ios[0]\n",
    "ios=ios[1:]"
   ]
  },
  {
   "cell_type": "markdown",
   "metadata": {},
   "source": [
    "I defined a function to examine data more easily."
   ]
  },
  {
   "cell_type": "code",
   "execution_count": 3,
   "metadata": {
    "collapsed": false
   },
   "outputs": [
    {
     "name": "stdout",
     "output_type": "stream",
     "text": [
      "['App', 'Category', 'Rating', 'Reviews', 'Size', 'Installs', 'Type', 'Price', 'Content Rating', 'Genres', 'Last Updated', 'Current Ver', 'Android Ver']\n",
      "\n",
      "\n",
      "['Photo Editor & Candy Camera & Grid & ScrapBook', 'ART_AND_DESIGN', '4.1', '159', '19M', '10,000+', 'Free', '0', 'Everyone', 'Art & Design', 'January 7, 2018', '1.0.0', '4.0.3 and up']\n",
      "\n",
      "\n",
      "['Coloring book moana', 'ART_AND_DESIGN', '3.9', '967', '14M', '500,000+', 'Free', '0', 'Everyone', 'Art & Design;Pretend Play', 'January 15, 2018', '2.0.0', '4.0.3 and up']\n",
      "\n",
      "\n",
      "['U Launcher Lite – FREE Live Cool Themes, Hide Apps', 'ART_AND_DESIGN', '4.7', '87510', '8.7M', '5,000,000+', 'Free', '0', 'Everyone', 'Art & Design', 'August 1, 2018', '1.2.4', '4.0.3 and up']\n",
      "\n",
      "\n",
      "Number of rows: 10841\n",
      "Number of columns: 13\n"
     ]
    }
   ],
   "source": [
    "def explore_data(dataset, start, end, rows_and_columns=False):\n",
    "    dataset_slice = dataset[start:end]    \n",
    "    for row in dataset_slice:\n",
    "        print(row)\n",
    "        print('\\n') # adds a new (empty) line between rows\n",
    "        \n",
    "    if rows_and_columns:\n",
    "        print('Number of rows:', len(dataset))\n",
    "        print('Number of columns:', len(dataset[0]))\n",
    "\n",
    "print(android_header)\n",
    "print('\\n')\n",
    "explore_data(android, 0, 3, True)"
   ]
  },
  {
   "cell_type": "code",
   "execution_count": 4,
   "metadata": {
    "collapsed": false
   },
   "outputs": [
    {
     "name": "stdout",
     "output_type": "stream",
     "text": [
      "['id', 'track_name', 'size_bytes', 'currency', 'price', 'rating_count_tot', 'rating_count_ver', 'user_rating', 'user_rating_ver', 'ver', 'cont_rating', 'prime_genre', 'sup_devices.num', 'ipadSc_urls.num', 'lang.num', 'vpp_lic']\n",
      "\n",
      "\n",
      "['389801252', 'Instagram', '113954816', 'USD', '0.0', '2161558', '1289', '4.5', '4.0', '10.23', '12+', 'Photo & Video', '37', '0', '29', '1']\n",
      "\n",
      "\n",
      "['529479190', 'Clash of Clans', '116476928', 'USD', '0.0', '2130805', '579', '4.5', '4.5', '9.24.12', '9+', 'Games', '38', '5', '18', '1']\n",
      "\n",
      "\n",
      "Number of rows: 7197\n",
      "Number of columns: 16\n"
     ]
    }
   ],
   "source": [
    "print(ios_header)\n",
    "print('\\n')\n",
    "explore_data(ios,1,3,True)"
   ]
  },
  {
   "cell_type": "markdown",
   "metadata": {},
   "source": [
    "In the below we find the following code to find problematic rows."
   ]
  },
  {
   "cell_type": "code",
   "execution_count": 5,
   "metadata": {
    "collapsed": false
   },
   "outputs": [
    {
     "name": "stdout",
     "output_type": "stream",
     "text": [
      "['Life Made WI-Fi Touchscreen Photo Frame', '1.9', '19', '3.0M', '1,000+', 'Free', '0', 'Everyone', '', 'February 11, 2018', '1.0.19', '4.0 and up']\n",
      "10472\n"
     ]
    }
   ],
   "source": [
    "for row in android:\n",
    "    headerlength = len(android_header)\n",
    "    rowlength = len(row) \n",
    "    if rowlength != headerlength:\n",
    "        print(row)\n",
    "        print(android.index(row))"
   ]
  },
  {
   "cell_type": "code",
   "execution_count": 6,
   "metadata": {
    "collapsed": false
   },
   "outputs": [],
   "source": [
    "del android[10472]"
   ]
  },
  {
   "cell_type": "markdown",
   "metadata": {},
   "source": [
    "Following lines of code was written for detecting duplicated apps in the dataset."
   ]
  },
  {
   "cell_type": "code",
   "execution_count": 7,
   "metadata": {
    "collapsed": false
   },
   "outputs": [
    {
     "name": "stdout",
     "output_type": "stream",
     "text": [
      "number of duplicated apps: 1181\n",
      "\n",
      "\n",
      "['Quick PDF Scanner + OCR FREE', 'Box', 'Google My Business', 'ZOOM Cloud Meetings', 'join.me - Simple Meetings', 'Box', 'Zenefits', 'Google Ads', 'Google My Business', 'Slack', 'FreshBooks Classic', 'Insightly CRM', 'QuickBooks Accounting: Invoicing & Expenses', 'HipChat - Chat Built for Teams', 'Xero Accounting Software']\n"
     ]
    }
   ],
   "source": [
    "unique_apps=[]\n",
    "duplicated_apps=[]\n",
    "for app in android:\n",
    "    name=app[0]\n",
    "    if name in unique_apps:\n",
    "        duplicated_apps.append(name)\n",
    "    else:\n",
    "        unique_apps.append(name)\n",
    "print('number of duplicated apps:', len(duplicated_apps))\n",
    "print('\\n')\n",
    "print(duplicated_apps[:15])"
   ]
  },
  {
   "cell_type": "markdown",
   "metadata": {},
   "source": [
    "Following lines of code written for keeping the apps which has the most reviews within both duplicated and unique apps."
   ]
  },
  {
   "cell_type": "code",
   "execution_count": 8,
   "metadata": {
    "collapsed": false
   },
   "outputs": [
    {
     "name": "stdout",
     "output_type": "stream",
     "text": [
      "Expected length: 9659\n",
      "Actual length: 9659\n"
     ]
    }
   ],
   "source": [
    "reviews_max={}\n",
    "for app in android:\n",
    "    name=app[0]\n",
    "    n_reviews=float(app[3])\n",
    "    if name in reviews_max and reviews_max[name] < n_reviews:\n",
    "        reviews_max[name] = n_reviews\n",
    "    elif name not in reviews_max:\n",
    "        reviews_max[name] = n_reviews\n",
    "print('Expected length:',len(android)-1181)\n",
    "print('Actual length:',len(reviews_max))\n"
   ]
  },
  {
   "cell_type": "code",
   "execution_count": 9,
   "metadata": {
    "collapsed": false
   },
   "outputs": [],
   "source": [
    "android_clean=[]\n",
    "already_added=[]\n",
    "for app in android:\n",
    "    name=app[0]\n",
    "    n_reviews=float(app[3])\n",
    "    if (reviews_max[name]==n_reviews) and (name not in already_added):\n",
    "        android_clean.append(app)\n",
    "        already_added.append(name)\n"
   ]
  },
  {
   "cell_type": "code",
   "execution_count": 10,
   "metadata": {
    "collapsed": false
   },
   "outputs": [
    {
     "name": "stdout",
     "output_type": "stream",
     "text": [
      "['Smoke Effect Photo Maker - Smoke Editor', 'ART_AND_DESIGN', '3.8', '178', '19M', '50,000+', 'Free', '0', 'Everyone', 'Art & Design', 'April 26, 2018', '1.1', '4.0.3 and up']\n",
      "\n",
      "\n",
      "['Infinite Painter', 'ART_AND_DESIGN', '4.1', '36815', '29M', '1,000,000+', 'Free', '0', 'Everyone', 'Art & Design', 'June 14, 2018', '6.1.61.1', '4.2 and up']\n",
      "\n",
      "\n",
      "Number of rows: 9659\n",
      "Number of columns: 13\n",
      "Smoke Effect Photo Maker - Smoke Editor\n",
      "\n",
      "\n",
      "Infinite Painter\n",
      "\n",
      "\n",
      "Number of rows: 9659\n",
      "Number of columns: 46\n"
     ]
    }
   ],
   "source": [
    "explore_data(android_clean,5,7,True)\n",
    "explore_data(already_added,5,7,True)"
   ]
  },
  {
   "cell_type": "markdown",
   "metadata": {},
   "source": [
    "In the Below you can see that following lines of code was written to find out whether the apps is written in English or not."
   ]
  },
  {
   "cell_type": "code",
   "execution_count": 11,
   "metadata": {
    "collapsed": false
   },
   "outputs": [
    {
     "name": "stdout",
     "output_type": "stream",
     "text": [
      "True\n",
      "False\n",
      "True\n"
     ]
    }
   ],
   "source": [
    "def english_check(string):\n",
    "    for character in string: \n",
    "        if 0<= ord(character) <= 127 or ord(character)==8482 or ord(character)==128540:\n",
    "            return True\n",
    "        else :\n",
    "            return False\n",
    "print(english_check('Instagram'))\n",
    "print(english_check('爱奇艺PPS -《欢乐颂2》电视剧热播'))\n",
    "print(english_check('Instachat 😜'))"
   ]
  },
  {
   "cell_type": "code",
   "execution_count": 12,
   "metadata": {
    "collapsed": false
   },
   "outputs": [
    {
     "name": "stdout",
     "output_type": "stream",
     "text": [
      "9623\n",
      "36\n",
      "['U Launcher Lite – FREE Live Cool Themes, Hide Apps', 'ART_AND_DESIGN', '4.7', '87510', '8.7M', '5,000,000+', 'Free', '0', 'Everyone', 'Art & Design', 'August 1, 2018', '1.2.4', '4.0.3 and up']\n",
      "\n",
      "\n",
      "Number of rows: 9623\n",
      "Number of columns: 13\n",
      "\n",
      "\n",
      "['389801252', 'Instagram', '113954816', 'USD', '0.0', '2161558', '1289', '4.5', '4.0', '10.23', '12+', 'Photo & Video', '37', '0', '29', '1']\n",
      "\n",
      "\n",
      "Number of rows: 6273\n",
      "Number of columns: 16\n"
     ]
    }
   ],
   "source": [
    "eng_app=[]\n",
    "non_eng_app=[]\n",
    "ios_english = []\n",
    "\n",
    "for app in android_clean:\n",
    "    name=app[0]\n",
    "    if english_check(name) == True :\n",
    "        eng_app.append(app)\n",
    "    else:\n",
    "        non_eng_app.append(app)\n",
    "for app in ios:\n",
    "    name = app[1]\n",
    "    if english_check(name)==True:\n",
    "        ios_english.append(app)\n",
    "        \n",
    "print(len(eng_app))\n",
    "print(len(non_eng_app))   \n",
    "explore_data(eng_app,1,2,True)\n",
    "print('\\n')\n",
    "explore_data(ios_english,1,2,True)"
   ]
  },
  {
   "cell_type": "markdown",
   "metadata": {},
   "source": [
    "Isolating the Free Apps"
   ]
  },
  {
   "cell_type": "code",
   "execution_count": 13,
   "metadata": {
    "collapsed": false
   },
   "outputs": [
    {
     "name": "stdout",
     "output_type": "stream",
     "text": [
      "3300\n",
      "8873\n"
     ]
    }
   ],
   "source": [
    "android_free=[]\n",
    "ios_final = []\n",
    "\n",
    "for app in eng_app:\n",
    "    price = app[7]\n",
    "    if price == '0':\n",
    "        android_free.append(app)\n",
    "for app in ios_english:\n",
    "    price = app[4]\n",
    "    if price == '0.0':\n",
    "        ios_final.append(app)\n",
    "print(len(ios_final))\n",
    "print(len(android_free))\n"
   ]
  },
  {
   "cell_type": "markdown",
   "metadata": {},
   "source": [
    "In our case, our market strategy starts with building a minimal version of our app for Google Play and then we would evaluate its performance to see whether it is ok to proceed to develop it for App Store. To do that according to our marketing strategy we need to create a frequency matrix to understand which genres are popular to build an app. "
   ]
  },
  {
   "cell_type": "code",
   "execution_count": 14,
   "metadata": {
    "collapsed": true
   },
   "outputs": [],
   "source": [
    "def freq_table(dataset,index):\n",
    "    frequency_table={}\n",
    "    total =0\n",
    "    for row in dataset:\n",
    "        total += 1\n",
    "        value = row[index]\n",
    "        if value in frequency_table:\n",
    "            frequency_table[value] += 1\n",
    "        else:\n",
    "            frequency_table[value] = 1\n",
    "    table_percentages = {}\n",
    "    for key in frequency_table:\n",
    "        percentage = (frequency_table[key] / total) * 100\n",
    "        table_percentages[key] = percentage \n",
    "    \n",
    "    return table_percentages\n",
    "\n",
    "def display_table(dataset, index):\n",
    "    table = freq_table(dataset, index)\n",
    "    table_display = []\n",
    "    for key in table:\n",
    "        key_val_as_tuple = (table[key], key)\n",
    "        table_display.append(key_val_as_tuple)\n",
    "\n",
    "    table_sorted = sorted(table_display, reverse = True)\n",
    "    for entry in table_sorted:\n",
    "        print(entry[1], ':', entry[0])"
   ]
  },
  {
   "cell_type": "code",
   "execution_count": 15,
   "metadata": {
    "collapsed": false
   },
   "outputs": [
    {
     "name": "stdout",
     "output_type": "stream",
     "text": [
      "{'Reference': 0.5151515151515151, 'Education': 3.5757575757575757, 'Navigation': 0.27272727272727276, 'Social Networking': 3.3939393939393945, 'Health & Fitness': 2.0606060606060606, 'Catalogs': 0.18181818181818182, 'Music': 2.0303030303030303, 'Food & Drink': 0.8787878787878787, 'Games': 57.484848484848484, 'Productivity': 1.7575757575757573, 'Entertainment': 7.96969696969697, 'Photo & Video': 4.878787878787879, 'Travel': 1.1818181818181819, 'Shopping': 2.5757575757575757, 'Sports': 2.1212121212121215, 'Book': 0.5757575757575757, 'Finance': 1.1818181818181819, 'Utilities': 2.696969696969697, 'Lifestyle': 1.6969696969696972, 'News': 1.3636363636363635, 'Business': 0.5151515151515151, 'Medical': 0.21212121212121215, 'Weather': 0.8787878787878787}\n",
      "\n",
      "\n",
      "Games : 57.484848484848484\n",
      "Entertainment : 7.96969696969697\n",
      "Photo & Video : 4.878787878787879\n",
      "Education : 3.5757575757575757\n",
      "Social Networking : 3.3939393939393945\n",
      "Utilities : 2.696969696969697\n",
      "Shopping : 2.5757575757575757\n",
      "Sports : 2.1212121212121215\n",
      "Health & Fitness : 2.0606060606060606\n",
      "Music : 2.0303030303030303\n",
      "Productivity : 1.7575757575757573\n",
      "Lifestyle : 1.6969696969696972\n",
      "News : 1.3636363636363635\n",
      "Travel : 1.1818181818181819\n",
      "Finance : 1.1818181818181819\n",
      "Weather : 0.8787878787878787\n",
      "Food & Drink : 0.8787878787878787\n",
      "Book : 0.5757575757575757\n",
      "Reference : 0.5151515151515151\n",
      "Business : 0.5151515151515151\n",
      "Navigation : 0.27272727272727276\n",
      "Medical : 0.21212121212121215\n",
      "Catalogs : 0.18181818181818182\n",
      "None\n"
     ]
    }
   ],
   "source": [
    "print(freq_table(ios_final,11))\n",
    "print('\\n')\n",
    "print(display_table(ios_final,11))\n"
   ]
  },
  {
   "cell_type": "code",
   "execution_count": 16,
   "metadata": {
    "collapsed": false
   },
   "outputs": [
    {
     "name": "stdout",
     "output_type": "stream",
     "text": [
      "{'PHOTOGRAPHY': 2.9527780908373717, 'LIBRARIES_AND_DEMO': 0.9354220669446636, 'ENTERTAINMENT': 0.946692212329539, 'HOUSE_AND_HOME': 0.8114504677110335, 'ART_AND_DESIGN': 0.6423982869379015, 'SHOPPING': 2.231488786205342, 'GAME': 9.703595176377776, 'HEALTH_AND_FITNESS': 3.076749690071002, 'BEAUTY': 0.5973177053983997, 'COMICS': 0.5973177053983997, 'DATING': 1.8595739885044518, 'SOCIAL': 2.6484841654457343, 'VIDEO_PLAYERS': 1.791953116195199, 'BUSINESS': 4.59821931702919, 'WEATHER': 0.800180322326158, 'COMMUNICATION': 3.234531725459258, 'EVENTS': 0.7100191592471543, 'NEWS_AND_MAGAZINES': 2.817536346218866, 'EDUCATION': 1.1720951200270482, 'FAMILY': 18.95638453736053, 'AUTO_AND_VEHICLES': 0.9241519215597882, 'MEDICAL': 3.5275555054660206, 'SPORTS': 3.3923137608475153, 'TOOLS': 8.441338893271723, 'MAPS_AND_NAVIGATION': 1.3974980277245577, 'FOOD_AND_DRINK': 1.2284458469514257, 'FINANCE': 3.685337540854277, 'PERSONALIZATION': 3.3246928885382623, 'BOOKS_AND_REFERENCE': 2.1751380592809646, 'LIFESTYLE': 3.933280739321537, 'PRODUCTIVITY': 3.899470303166911, 'TRAVEL_AND_LOCAL': 2.332920094669221, 'PARENTING': 0.6536684323227769}\n",
      "\n",
      "\n",
      "FAMILY : 18.95638453736053\n",
      "GAME : 9.703595176377776\n",
      "TOOLS : 8.441338893271723\n",
      "BUSINESS : 4.59821931702919\n",
      "LIFESTYLE : 3.933280739321537\n",
      "PRODUCTIVITY : 3.899470303166911\n",
      "FINANCE : 3.685337540854277\n",
      "MEDICAL : 3.5275555054660206\n",
      "SPORTS : 3.3923137608475153\n",
      "PERSONALIZATION : 3.3246928885382623\n",
      "COMMUNICATION : 3.234531725459258\n",
      "HEALTH_AND_FITNESS : 3.076749690071002\n",
      "PHOTOGRAPHY : 2.9527780908373717\n",
      "NEWS_AND_MAGAZINES : 2.817536346218866\n",
      "SOCIAL : 2.6484841654457343\n",
      "TRAVEL_AND_LOCAL : 2.332920094669221\n",
      "SHOPPING : 2.231488786205342\n",
      "BOOKS_AND_REFERENCE : 2.1751380592809646\n",
      "DATING : 1.8595739885044518\n",
      "VIDEO_PLAYERS : 1.791953116195199\n",
      "MAPS_AND_NAVIGATION : 1.3974980277245577\n",
      "FOOD_AND_DRINK : 1.2284458469514257\n",
      "EDUCATION : 1.1720951200270482\n",
      "ENTERTAINMENT : 0.946692212329539\n",
      "LIBRARIES_AND_DEMO : 0.9354220669446636\n",
      "AUTO_AND_VEHICLES : 0.9241519215597882\n",
      "HOUSE_AND_HOME : 0.8114504677110335\n",
      "WEATHER : 0.800180322326158\n",
      "EVENTS : 0.7100191592471543\n",
      "PARENTING : 0.6536684323227769\n",
      "ART_AND_DESIGN : 0.6423982869379015\n",
      "COMICS : 0.5973177053983997\n",
      "BEAUTY : 0.5973177053983997\n",
      "None\n"
     ]
    }
   ],
   "source": [
    "print(freq_table(android_free,1))\n",
    "print('\\n')\n",
    "print(display_table(android_free,1))"
   ]
  },
  {
   "cell_type": "markdown",
   "metadata": {},
   "source": [
    "In the below, I realized that total download of for an each app in app is a missing unlike Google Play data thus, I come up with a solution to find average number of the rating for each genre. Therefore I am able to understand the perfomance's of the each genre without finding apps install value."
   ]
  },
  {
   "cell_type": "code",
   "execution_count": 17,
   "metadata": {
    "collapsed": false
   },
   "outputs": [
    {
     "name": "stdout",
     "output_type": "stream",
     "text": [
      "Reference : 79350.4705882353\n",
      "Education : 7003.983050847458\n",
      "Navigation : 57393.555555555555\n",
      "Social Networking : 67731.21428571429\n",
      "Health & Fitness : 22278.352941176472\n",
      "Catalogs : 2669.3333333333335\n",
      "Music : 56482.02985074627\n",
      "Food & Drink : 29886.931034482757\n",
      "Games : 22199.308381655246\n",
      "Productivity : 20303.310344827587\n",
      "Entertainment : 13549.794676806083\n",
      "Photo & Video : 28264.888198757762\n",
      "Travel : 28959.5641025641\n",
      "Shopping : 26586.788235294116\n",
      "Sports : 22680.2\n",
      "Book : 29310.736842105263\n",
      "Finance : 29048.615384615383\n",
      "Utilities : 17058.719101123595\n",
      "Lifestyle : 15023.089285714286\n",
      "News : 20303.666666666668\n",
      "Business : 7491.117647058823\n",
      "Medical : 525.4285714285714\n",
      "Weather : 50477.137931034486\n"
     ]
    }
   ],
   "source": [
    "genres_ios = freq_table(ios_final, -5)\n",
    "\n",
    "for genre in genres_ios:\n",
    "    total = 0\n",
    "    len_genre = 0\n",
    "    for app in ios_final:\n",
    "        genre_app = app[-5]\n",
    "        if genre_app == genre:            \n",
    "            n_ratings = float(app[5])\n",
    "            total += n_ratings\n",
    "            len_genre += 1\n",
    "    avg_n_ratings = total / len_genre\n",
    "    print(genre, ':', avg_n_ratings)"
   ]
  },
  {
   "cell_type": "code",
   "execution_count": null,
   "metadata": {
    "collapsed": true
   },
   "outputs": [],
   "source": []
  }
 ],
 "metadata": {
  "kernelspec": {
   "display_name": "Python 3",
   "language": "python",
   "name": "python3"
  },
  "language_info": {
   "codemirror_mode": {
    "name": "ipython",
    "version": 3
   },
   "file_extension": ".py",
   "mimetype": "text/x-python",
   "name": "python",
   "nbconvert_exporter": "python",
   "pygments_lexer": "ipython3",
   "version": "3.4.3"
  }
 },
 "nbformat": 4,
 "nbformat_minor": 2
}
